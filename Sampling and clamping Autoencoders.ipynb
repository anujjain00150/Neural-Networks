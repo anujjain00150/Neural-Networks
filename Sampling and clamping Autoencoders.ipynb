{
 "cells": [
  {
   "cell_type": "markdown",
   "metadata": {},
   "source": [
    "# Sampling and clamping Autoencoders"
   ]
  },
  {
   "cell_type": "code",
   "execution_count": 1,
   "metadata": {
    "collapsed": true
   },
   "outputs": [],
   "source": [
    "%matplotlib inline\n",
    "import tensorflow as tf\n",
    "from tensorflow.examples.tutorials.mnist import input_data\n",
    "import sys\n",
    "import matplotlib\n",
    "import matplotlib.pyplot as plt\n",
    "import numpy as np\n",
    "from functools import partial"
   ]
  },
  {
   "cell_type": "markdown",
   "metadata": {},
   "source": [
    "## Applying noise and clamping to input and visualizing their corresponding output "
   ]
  },
  {
   "cell_type": "code",
   "execution_count": 55,
   "metadata": {},
   "outputs": [
    {
     "name": "stdout",
     "output_type": "stream",
     "text": [
      "Extracting /tmp/data/train-images-idx3-ubyte.gz\n",
      "Extracting /tmp/data/train-labels-idx1-ubyte.gz\n",
      "Extracting /tmp/data/t10k-images-idx3-ubyte.gz\n",
      "Extracting /tmp/data/t10k-labels-idx1-ubyte.gz\n",
      "0 Train MSE: 0.0422034\n",
      "19% Train MSE: 0.0420008\n",
      "2 Train MSE: 0.0404312\n",
      "3 Train MSE: 0.036007\n",
      "4 Train MSE: 0.043732\n",
      "59% Train MSE: 0.039406\n",
      "6 Train MSE: 0.0409424\n",
      "7 Train MSE: 0.0404437\n",
      "8 Train MSE: 0.0388285\n",
      "9 Train MSE: 0.0381718\n"
     ]
    },
    {
     "data": {
      "image/png": "[encoded data removed]",
      "text/plain": [
       "<matplotlib.figure.Figure at 0x1c24f60e80>"
      ]
     },
     "metadata": {},
     "output_type": "display_data"
    }
   ],
   "source": [
    "\n",
    "tf.reset_default_graph()\n",
    "\n",
    "n_inputs = 28 * 28\n",
    "n_hidden1 = 300\n",
    "n_hidden2 = 150  # codings\n",
    "n_hidden3 = n_hidden1\n",
    "n_outputs = n_inputs\n",
    "\n",
    "learning_rate = 0.01\n",
    "\n",
    "noise_level = 1.0\n",
    "\n",
    "X = tf.placeholder(tf.float32, shape=[None, n_inputs])\n",
    "X_noisy = X + noise_level * tf.random_normal(tf.shape(X))\n",
    "\n",
    "hidden1 = tf.layers.dense(X_noisy, n_hidden1, activation=tf.nn.relu,\n",
    "                          name=\"hidden1\")\n",
    "hidden2 = tf.layers.dense(hidden1, n_hidden2, activation=tf.nn.relu, # not shown in the book\n",
    "                          name=\"hidden2\")                            # not shown\n",
    "hidden3 = tf.layers.dense(hidden2, n_hidden3, activation=tf.nn.relu, # not shown\n",
    "                          name=\"hidden3\")                            # not shown\n",
    "outputs = tf.layers.dense(hidden3, n_outputs, name=\"outputs\")        # not shown\n",
    "\n",
    "reconstruction_loss = tf.reduce_mean(tf.square(outputs - X)) # MSE\n",
    "\n",
    "optimizer = tf.train.AdamOptimizer(learning_rate)\n",
    "training_op = optimizer.minimize(reconstruction_loss)\n",
    "    \n",
    "init = tf.global_variables_initializer()\n",
    "\n",
    "mnist = input_data.read_data_sets(\"/tmp/data/\")\n",
    "\n",
    "n_epochs = 10\n",
    "batch_size = 150\n",
    "n_test_digits = 2\n",
    "noise_level = 1.0\n",
    "\n",
    "def plot_image(image, shape=[28, 28]):\n",
    "    plt.imshow(image.reshape(shape), cmap=\"Greys\", interpolation=\"nearest\")\n",
    "    plt.axis(\"off\")\n",
    "\n",
    "with tf.Session() as sess:\n",
    "    init.run()\n",
    "    for epoch in range(n_epochs):\n",
    "        n_batches = mnist.train.num_examples // batch_size\n",
    "        for iteration in range(n_batches):\n",
    "            print(\"\\r{}%\".format(100 * iteration // n_batches), end=\"\")\n",
    "            sys.stdout.flush()\n",
    "            X_batch, y_batch = mnist.train.next_batch(batch_size)\n",
    "            sess.run(training_op, feed_dict={X: X_batch})\n",
    "        loss_train = reconstruction_loss.eval(feed_dict={X: X_batch})\n",
    "        print(\"\\r{}\".format(epoch), \"Train MSE:\", loss_train)\n",
    "    X_test = mnist.test.images[:n_test_digits]\n",
    "    outputs_val = outputs.eval(feed_dict={X: X_test})\n",
    "    X_noisy = X_test + noise_level * tf.random_normal(tf.shape(X_test))  # adding noise\n",
    "    outputs_noise_val = outputs.eval(feed_dict={X: X_noisy.eval()})\n",
    "    X_clamped = X_test.copy()\n",
    "    np.put(X_clamped[0],[range(392)],np.zeros((2,392)))         # clamping X_test\n",
    "    np.put(X_clamped[1],[range(392)],np.zeros((2,392)))         # clamping X_test\n",
    "    outputs_clamped_val = outputs.eval(feed_dict={X: X_clamped})\n",
    "\n",
    "fig = plt.figure(figsize=(8, 3 * n_test_digits))\n",
    "for digit_index in range(n_test_digits):\n",
    "    plt.subplot(n_test_digits, 5, digit_index * 5 + 1)\n",
    "    plot_image(X_test[digit_index])\n",
    "    plt.subplot(n_test_digits, 5, digit_index * 5 + 2)\n",
    "    plot_image(outputs_val[digit_index])\n",
    "    plt.subplot(n_test_digits, 5, digit_index * 5 + 3)\n",
    "    plot_image(outputs_noise_val[digit_index])\n",
    "    plt.subplot(n_test_digits, 5, digit_index * 5 + 4)\n",
    "    plot_image(X_clamped[digit_index])\n",
    "    plt.subplot(n_test_digits, 5, digit_index * 5 + 5)\n",
    "    plot_image(outputs_clamped_val[digit_index])\n",
    "\n",
    "plt.title('1. Input data, 2. normal output, 3. Output with noise, 4. Clamped Input, 5. Output with clamping')\n",
    "plt.show()    "
   ]
  },
  {
   "cell_type": "markdown",
   "metadata": {},
   "source": [
    "## denoising autoencoder, using dropout"
   ]
  },
  {
   "cell_type": "code",
   "execution_count": 56,
   "metadata": {},
   "outputs": [
    {
     "name": "stdout",
     "output_type": "stream",
     "text": [
      "Extracting /tmp/data/train-images-idx3-ubyte.gz\n",
      "Extracting /tmp/data/train-labels-idx1-ubyte.gz\n",
      "Extracting /tmp/data/t10k-images-idx3-ubyte.gz\n",
      "Extracting /tmp/data/t10k-labels-idx1-ubyte.gz\n",
      "0 Train MSE: 0.0359708\n",
      "1 Train MSE: 0.0323188\n",
      "2 Train MSE: 0.0318841\n",
      "3 Train MSE: 0.0294862\n",
      "4 Train MSE: 0.0296384\n",
      "5 Train MSE: 0.0286472\n",
      "6 Train MSE: 0.0297017\n",
      "7 Train MSE: 0.0258152\n",
      "8 Train MSE: 0.0279915\n",
      "9 Train MSE: 0.0294603\n"
     ]
    },
    {
     "data": {
      "image/png": "[encoded data removed]",
      "text/plain": [
       "<matplotlib.figure.Figure at 0x1c252c44e0>"
      ]
     },
     "metadata": {},
     "output_type": "display_data"
    }
   ],
   "source": [
    "tf.reset_default_graph()\n",
    "\n",
    "n_inputs = 28 * 28\n",
    "n_hidden1 = 300\n",
    "n_hidden2 = 150  # codings\n",
    "n_hidden3 = n_hidden1\n",
    "n_outputs = n_inputs\n",
    "\n",
    "learning_rate = 0.01\n",
    "\n",
    "dropout_rate = 0.3\n",
    "\n",
    "training = tf.placeholder_with_default(False, shape=(), name='training')\n",
    "\n",
    "X = tf.placeholder(tf.float32, shape=[None, n_inputs])\n",
    "X_drop = tf.layers.dropout(X, dropout_rate, training=training)\n",
    "\n",
    "hidden1 = tf.layers.dense(X_drop, n_hidden1, activation=tf.nn.relu,\n",
    "                          name=\"hidden1\")\n",
    "hidden2 = tf.layers.dense(hidden1, n_hidden2, activation=tf.nn.relu, # not shown in the book\n",
    "                          name=\"hidden2\")                            # not shown\n",
    "hidden3 = tf.layers.dense(hidden2, n_hidden3, activation=tf.nn.relu, # not shown\n",
    "                          name=\"hidden3\")                            # not shown\n",
    "outputs = tf.layers.dense(hidden3, n_outputs, name=\"outputs\")        # not shown\n",
    "\n",
    "reconstruction_loss = tf.reduce_mean(tf.square(outputs - X)) # MSE\n",
    "\n",
    "optimizer = tf.train.AdamOptimizer(learning_rate)\n",
    "training_op = optimizer.minimize(reconstruction_loss)\n",
    "    \n",
    "init = tf.global_variables_initializer()\n",
    "\n",
    "mnist = input_data.read_data_sets(\"/tmp/data/\")\n",
    "\n",
    "def plot_image(image, shape=[28, 28]):\n",
    "    plt.imshow(image.reshape(shape), cmap=\"Greys\", interpolation=\"nearest\")\n",
    "    plt.axis(\"off\")\n",
    "\n",
    "n_epochs = 10\n",
    "batch_size = 150\n",
    "n_test_digits = 2\n",
    "\n",
    "with tf.Session() as sess:\n",
    "    init.run()\n",
    "    for epoch in range(n_epochs):\n",
    "        n_batches = mnist.train.num_examples // batch_size\n",
    "        for iteration in range(n_batches):\n",
    "            print(\"\\r{}%\".format(100 * iteration // n_batches), end=\"\")\n",
    "            sys.stdout.flush()\n",
    "            X_batch, y_batch = mnist.train.next_batch(batch_size)\n",
    "            sess.run(training_op, feed_dict={X: X_batch, training: True})\n",
    "        loss_train = reconstruction_loss.eval(feed_dict={X: X_batch})\n",
    "        print(\"\\r{}\".format(epoch), \"Train MSE:\", loss_train)\n",
    "    X_test = mnist.test.images[:n_test_digits]\n",
    "    outputs_val = outputs.eval(feed_dict={X: X_test})\n",
    "    X_noisy = X_test + noise_level * tf.random_normal(tf.shape(X_test))  # adding noise\n",
    "    outputs_noise_val = outputs.eval(feed_dict={X: X_noisy.eval()})\n",
    "    X_clamped = X_test.copy()\n",
    "    np.put(X_clamped[0],[range(392)],np.zeros((2,392)))         # clamping X_test\n",
    "    np.put(X_clamped[1],[range(392)],np.zeros((2,392)))         # clamping X_test\n",
    "    outputs_clamped_val = outputs.eval(feed_dict={X: X_clamped})\n",
    "\n",
    "fig = plt.figure(figsize=(8, 3 * n_test_digits))\n",
    "for digit_index in range(n_test_digits):\n",
    "    plt.subplot(n_test_digits, 5, digit_index * 5 + 1)\n",
    "    plot_image(X_test[digit_index])\n",
    "    plt.subplot(n_test_digits, 5, digit_index * 5 + 2)\n",
    "    plot_image(outputs_val[digit_index])\n",
    "    plt.subplot(n_test_digits, 5, digit_index * 5 + 3)\n",
    "    plot_image(outputs_noise_val[digit_index])\n",
    "    plt.subplot(n_test_digits, 5, digit_index * 5 + 4)\n",
    "    plot_image(X_clamped[digit_index])\n",
    "    plt.subplot(n_test_digits, 5, digit_index * 5 + 5)\n",
    "    plot_image(outputs_clamped_val[digit_index])\n",
    "\n",
    "plt.title('1. Input data, 2. normal output, 3. Output with noise, 4. Clamped Input, 5. Output with clamping')\n",
    "plt.show()    "
   ]
  },
  {
   "cell_type": "code",
   "execution_count": null,
   "metadata": {
    "collapsed": true
   },
   "outputs": [],
   "source": []
  }
 ],
 "metadata": {
  "kernelspec": {
   "display_name": "Python 3",
   "language": "python",
   "name": "python3"
  },
  "language_info": {
   "codemirror_mode": {
    "name": "ipython",
    "version": 3
   },
   "file_extension": ".py",
   "mimetype": "text/x-python",
   "name": "python",
   "nbconvert_exporter": "python",
   "pygments_lexer": "ipython3",
   "version": "3.6.3"
  }
 },
 "nbformat": 4,
 "nbformat_minor": 2
}
